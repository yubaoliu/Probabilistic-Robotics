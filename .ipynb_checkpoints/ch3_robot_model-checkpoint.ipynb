{
 "cells": [
  {
   "cell_type": "code",
   "execution_count": 9,
   "metadata": {
    "colab": {},
    "colab_type": "code",
    "id": "YLp704zpLHHF"
   },
   "outputs": [],
   "source": [
    "# Animation\n",
    "import matplotlib\n",
    "matplotlib.use('nbagg')\n",
    "import matplotlib.animation as anm\n",
    "\n",
    "import matplotlib.pyplot as plt\n",
    "import matplotlib.patches as patches\n",
    "import math\n",
    "import numpy as np"
   ]
  },
  {
   "cell_type": "markdown",
   "metadata": {
    "colab_type": "text",
    "id": "k1CRNHGIOv9g"
   },
   "source": [
    "# Draw world coordinate"
   ]
  },
  {
   "cell_type": "code",
   "execution_count": 5,
   "metadata": {
    "colab": {},
    "colab_type": "code",
    "id": "ygZjaa-fMwjP"
   },
   "outputs": [],
   "source": [
    "class World:\n",
    "  def __init__(self, debug=False):\n",
    "    self.objects = []\n",
    "    self.debug = debug\n",
    "\n",
    "  def append(self, obj):\n",
    "    self.objects.append(obj)\n",
    "  \n",
    "  def draw(self):\n",
    "    fig = plt.figure(figsize=(4, 4))\n",
    "    ax = fig.add_subplot(111)\n",
    "    ax.set_aspect('equal')\n",
    "    ax.set_xlim(-5, 5)\n",
    "    ax.set_ylim(-5, 5)\n",
    "    ax.set_xlabel(\"X\", fontsize=20)\n",
    "    ax.set_ylabel(\"Y\", fontsize=20)\n",
    "\n",
    "    elems = []\n",
    "\n",
    "\n",
    "    if self.debug:\n",
    "      for i in range(1000):\n",
    "        self.one_step(i, elems, ax)\n",
    "    else:\n",
    "      self.ani = anm.FuncAnimation(fig, self.one_step, fargs=(elems, ax), frames=10, interval=1000, repeat=False )\n",
    "      plt.show()\n",
    "\n",
    "\n",
    "    # plt.show()\n",
    "\n",
    "  def one_step(self, i, elems, ax):\n",
    "    print(\"One step function\")\n",
    "    while elems: elems.pop().remove()\n",
    "    elems.append(ax.text(-4.4, 4.5, \"t=\"+str(i), fontsize=10) )\n",
    "    for obj in self.objects:\n",
    "      obj.draw(ax)\n",
    "    "
   ]
  },
  {
   "cell_type": "markdown",
   "metadata": {
    "colab_type": "text",
    "id": "gEa0__pxQa6Q"
   },
   "source": [
    "# Robot Object"
   ]
  },
  {
   "cell_type": "code",
   "execution_count": 6,
   "metadata": {
    "colab": {},
    "colab_type": "code",
    "id": "_0Y8sSa8QZy5"
   },
   "outputs": [],
   "source": [
    "class IdealRobot:\n",
    "  def __init__(self, pose, color=\"black\"):\n",
    "    self.pose = pose\n",
    "    self.r = 0.2\n",
    "    self.color = color\n",
    "\n",
    "  def draw(self, ax, elems):\n",
    "    x, y, theta = self.pose\n",
    "    xn = x + self.r * math.cos(theta)\n",
    "    yn = y + self.r * math.sin(theta)\n",
    "    elems += ax.plot([x, xn], [y, yn], color=self.color)\n",
    "    c = patches.Circle(xy=(x,y), radius=self.r, fill=False, color=self.color)\n",
    "    elems.append(ax.add_patch(c))\n"
   ]
  },
  {
   "cell_type": "code",
   "execution_count": 7,
   "metadata": {
    "colab": {
     "base_uri": "https://localhost:8080/",
     "height": 522
    },
    "colab_type": "code",
    "id": "Vp29i7K3N7Y3",
    "outputId": "0a69b140-9372-4960-c58b-eb2754489be2"
   },
   "outputs": [
    {
     "name": "stdout",
     "output_type": "stream",
     "text": [
      "One step function\n"
     ]
    },
    {
     "name": "stderr",
     "output_type": "stream",
     "text": [
      "Traceback (most recent call last):\n",
      "  File \"/home/yubao/.local/lib/python3.6/site-packages/matplotlib/cbook/__init__.py\", line 196, in process\n",
      "    func(*args, **kwargs)\n",
      "  File \"/home/yubao/.local/lib/python3.6/site-packages/matplotlib/animation.py\", line 951, in _start\n",
      "    self._init_draw()\n",
      "  File \"/home/yubao/.local/lib/python3.6/site-packages/matplotlib/animation.py\", line 1743, in _init_draw\n",
      "    self._draw_frame(next(self.new_frame_seq()))\n",
      "  File \"/home/yubao/.local/lib/python3.6/site-packages/matplotlib/animation.py\", line 1766, in _draw_frame\n",
      "    self._drawn_artists = self._func(framedata, *self._args)\n",
      "  File \"<ipython-input-5-f5d033b73863>\", line 36, in one_step\n",
      "    obj.draw(ax)\n",
      "TypeError: draw() missing 1 required positional argument: 'elems'\n"
     ]
    },
    {
     "data": {
      "image/png": "[encoded data removed]",
      "text/plain": [
       "<Figure size 288x288 with 1 Axes>"
      ]
     },
     "metadata": {
      "needs_background": "light"
     },
     "output_type": "display_data"
    }
   ],
   "source": [
    "%matplotlib inline\n",
    "world = World(debug=False)\n",
    "\n",
    "robot1 = IdealRobot(np.array([2, 3, math.pi/6]).T)\n",
    "robot2 = IdealRobot(np.array([-2, -1, math.pi/5*6]).T, \"red\")\n",
    "world.append(robot1)\n",
    "world.append(robot2)\n",
    "\n",
    "world.draw()"
   ]
  },
  {
   "cell_type": "code",
   "execution_count": null,
   "metadata": {},
   "outputs": [],
   "source": []
  }
 ],
 "metadata": {
  "colab": {
   "name": "ch3 robot model",
   "provenance": []
  },
  "kernelspec": {
   "display_name": "Python 3",
   "language": "python",
   "name": "python3"
  },
  "language_info": {
   "codemirror_mode": {
    "name": "ipython",
    "version": 3
   },
   "file_extension": ".py",
   "mimetype": "text/x-python",
   "name": "python",
   "nbconvert_exporter": "python",
   "pygments_lexer": "ipython3",
   "version": "3.6.9"
  }
 },
 "nbformat": 4,
 "nbformat_minor": 1
}
