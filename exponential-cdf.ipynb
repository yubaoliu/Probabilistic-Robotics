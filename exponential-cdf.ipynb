{
 "cells": [
  {
   "cell_type": "code",
   "execution_count": 5,
   "id": "whole-million",
   "metadata": {},
   "outputs": [],
   "source": [
    "# CDF\n",
    "from scipy import stats\n",
    "import numpy as np\n",
    "import matplotlib.pyplot as plt\n",
    " \n",
    "# plt.rcParams['font.sans-serif']=['SimHei']#用来正常显示中文标签\n",
    "# plt.rcParams['axes.unicode_minus']=False#用来正常显示负号"
   ]
  },
  {
   "cell_type": "code",
   "execution_count": 6,
   "id": "declared-courtesy",
   "metadata": {},
   "outputs": [
    {
     "data": {
      "text/plain": [
       "Text(0, 0.5, 'CDF')"
      ]
     },
     "execution_count": 6,
     "metadata": {},
     "output_type": "execute_result"
    },
    {
     "data": {
      "image/png": "[encoded data removed]",
      "text/plain": [
       "<Figure size 432x288 with 1 Axes>"
      ]
     },
     "metadata": {
      "needs_background": "light"
     },
     "output_type": "display_data"
    }
   ],
   "source": [
    "r = 1/50000\n",
    "X = []\n",
    "Y = []\n",
    "for x in np.linspace(0, 1000000, 100000):\n",
    "    if x==0:\n",
    "        continue\n",
    "    p = stats.expon.cdf(x, scale=1/r)  #用scipy.stats.expon工具算,注意这里scale参数是标准差\n",
    "    X.append(x)\n",
    "    Y.append(p)\n",
    "plt.plot(X,Y)\n",
    "plt.xlabel(\"Varaible\")\n",
    "plt.ylabel(\"CDF\")"
   ]
  },
  {
   "cell_type": "code",
   "execution_count": 10,
   "id": "recovered-background",
   "metadata": {},
   "outputs": [
    {
     "name": "stdout",
     "output_type": "stream",
     "text": [
      "0.5506710358827784\n"
     ]
    }
   ],
   "source": [
    "#  用累积概率查表x=40000的值:\n",
    "t = stats.expon.cdf(40000, scale=50000)\n",
    "print(t)\n",
    "# 也就是说事件发生时间间隔小于40000的概率是0.55067，那么问题1和2路由器在40000小时内坏的概率是0.55067，\n",
    "# 相应的可以使用40000小时以上的概率是1-0.55067=0.44933。"
   ]
  },
  {
   "cell_type": "code",
   "execution_count": null,
   "id": "sustainable-constitution",
   "metadata": {},
   "outputs": [],
   "source": []
  }
 ],
 "metadata": {
  "kernelspec": {
   "display_name": "OpenCV",
   "language": "python",
   "name": "opencv"
  },
  "language_info": {
   "codemirror_mode": {
    "name": "ipython",
    "version": 3
   },
   "file_extension": ".py",
   "mimetype": "text/x-python",
   "name": "python",
   "nbconvert_exporter": "python",
   "pygments_lexer": "ipython3",
   "version": "3.8.5"
  }
 },
 "nbformat": 4,
 "nbformat_minor": 5
}
